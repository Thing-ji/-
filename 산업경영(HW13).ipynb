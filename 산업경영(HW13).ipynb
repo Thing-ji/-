{
 "cells": [
  {
   "cell_type": "code",
   "execution_count": 1,
   "metadata": {},
   "outputs": [],
   "source": [
    "def knapsack():\n",
    "    List = []\n",
    "    print('## 메모이제이션 배열 ##')\n",
    "    array = [[0 for _ in range(maxWeight+1)] for _ in range(rowCount + 1)]\n",
    "    goods_array = [['' for _ in range(maxWeight + 1)] for _ in range(rowCount + 1)]\n",
    "    for row in range(1, rowCount + 1):\n",
    "        print(row, '개 -->', end = ' ')\n",
    "        for col in range(1, maxWeight + 1):\n",
    "            if weight[row] > col:\n",
    "                array[row][col] = array[row-1][col] # 바로 옆에꺼 넣기\n",
    "                goods_array[row][col] = goods_array[row-1][col]\n",
    "            else:\n",
    "                value1 = money[row] + array[row-1][col-weight[row]]\n",
    "                goods_value1 = goods[row] + ' ' + goods_array[row-1][col-weight[row]]\n",
    "                value2 = array[row-1][col]\n",
    "                goods_value2 = goods_array[row-1][col]\n",
    "\n",
    "                if value1 > value2:\n",
    "                    array[row][col] = value1\n",
    "                    goods_array[row][col] = goods_value1\n",
    "                else:\n",
    "                    array[row][col] = value2\n",
    "                    goods_array[row][col] = goods_value2\n",
    "                    \n",
    "            print('%2d' % array[row][col], end = ' ')\n",
    "            print(': %6s' % goods_array[row][col], end = ' ')\n",
    "        print()\n",
    "    return array[rowCount][maxWeight], goods_array[rowCount][maxWeight]"
   ]
  },
  {
   "cell_type": "code",
   "execution_count": 2,
   "metadata": {},
   "outputs": [
    {
     "name": "stdout",
     "output_type": "stream",
     "text": [
      "## 메모이제이션 배열 ##\n",
      "1 개 -->  0 :         0 :         0 :         0 :         0 :        13 :    금괴  13 :    금괴  \n",
      "2 개 -->  0 :         0 :         0 :         8 :    수정   8 :    수정  13 :    금괴  13 :    금괴  \n",
      "3 개 -->  0 :         0 :         6 :    루비   8 :    수정   8 :    수정  13 :    금괴  14 : 루비 수정  \n",
      "4 개 -->  0 :         0 :         6 :    루비   8 :    수정  12 :    진주  13 :    금괴  14 : 루비 수정  \n",
      "\n",
      "14 억원, 항목:  루비 수정 \n"
     ]
    }
   ],
   "source": [
    "maxWeight = 7\n",
    "rowCount = 4\n",
    "weight = [0, 6, 4, 3, 5]\n",
    "money = [0, 13, 8, 6, 12]\n",
    "goods = [0, '금괴', '수정', '루비', '진주']\n",
    "\n",
    "maxValue = knapsack()\n",
    "print()\n",
    "print(maxValue[0], '억원, 항목: ', maxValue[1])"
   ]
  }
 ],
 "metadata": {
  "kernelspec": {
   "display_name": "Python 3",
   "language": "python",
   "name": "python3"
  },
  "language_info": {
   "codemirror_mode": {
    "name": "ipython",
    "version": 3
   },
   "file_extension": ".py",
   "mimetype": "text/x-python",
   "name": "python",
   "nbconvert_exporter": "python",
   "pygments_lexer": "ipython3",
   "version": "3.8.5"
  }
 },
 "nbformat": 4,
 "nbformat_minor": 4
}
