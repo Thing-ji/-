{
 "cells": [
  {
   "cell_type": "code",
   "execution_count": 41,
   "metadata": {},
   "outputs": [
    {
     "name": "stdout",
     "output_type": "stream",
     "text": [
      "경로:  b -> a -> fin , total:  6\n"
     ]
    }
   ],
   "source": [
    "graph = {} # 해쉬함수 열기\n",
    "graph['start'] = {}\n",
    "graph['start']['a'] = 6\n",
    "graph['start']['b'] = 2\n",
    "\n",
    "graph['a'] = {}\n",
    "graph['a']['fin'] = 1\n",
    "\n",
    "graph['b'] = {}\n",
    "graph['b']['a'] = 3\n",
    "graph['b']['fin'] = 5\n",
    "\n",
    "graph['fin'] = {}\n",
    "# ------- 여기까지 그래프 설정\n",
    "\n",
    "infinity = float(\"inf\")\n",
    "costs = {}\n",
    "costs['a'] = 6\n",
    "costs['b'] = 2\n",
    "costs['fin'] = infinity\n",
    "# ------- 각 정점의 비용설정\n",
    "\n",
    "parents = {}\n",
    "parents['a'] = 'start'\n",
    "parents['b'] = 'start'\n",
    "parents['fin'] = None\n",
    "# ------- 각 정점의 부모노드 설정\n",
    "\n",
    "processed = [] # 지나온 노드 저장하기 위함\n",
    "\n",
    "\n",
    "\n",
    "# 함수설정\n",
    "def find_lowest_cost_node(costs):\n",
    "    lowest_cost = float('inf')\n",
    "    lowest_cost_node = None\n",
    "    global processed\n",
    "    \n",
    "    for node in costs:\n",
    "        cost = costs[node]\n",
    "        if cost < lowest_cost and node not in processed:\n",
    "            lowest_cost = cost\n",
    "            lowest_cost_node = node\n",
    "            \n",
    "    return lowest_cost_node\n",
    "\n",
    "\n",
    "# 알고리즘\n",
    "node = find_lowest_cost_node(costs)\n",
    "while node is not None:\n",
    "    cost = costs[node]\n",
    "    neighbors = graph[node] # 이동할 다음 정점과 값이 출력\n",
    "    \n",
    "    \n",
    "#     print(neighbors) # 그 다음 노드 정점과 값이 출력\n",
    "    for n in neighbors.keys():\n",
    "        new_cost = cost + neighbors[n] # key1,key2 의 값\n",
    "        if costs[n] > new_cost:\n",
    "            costs[n] = new_cost\n",
    "            parents[n] = node\n",
    "    processed.append(node)\n",
    "    node = find_lowest_cost_node(costs)\n",
    "    \n",
    "print('경로: ', ' -> '.join(processed),', total: ', costs['fin'])"
   ]
  }
 ],
 "metadata": {
  "kernelspec": {
   "display_name": "Python 3",
   "language": "python",
   "name": "python3"
  },
  "language_info": {
   "codemirror_mode": {
    "name": "ipython",
    "version": 3
   },
   "file_extension": ".py",
   "mimetype": "text/x-python",
   "name": "python",
   "nbconvert_exporter": "python",
   "pygments_lexer": "ipython3",
   "version": "3.8.5"
  }
 },
 "nbformat": 4,
 "nbformat_minor": 4
}
