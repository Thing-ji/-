{
 "cells": [
  {
   "cell_type": "code",
   "execution_count": 1,
   "metadata": {},
   "outputs": [
    {
     "name": "stdout",
     "output_type": "stream",
     "text": [
      "[198, 194, 193, 183, 134, 133, 123, 116, 91, 47]\n"
     ]
    }
   ],
   "source": [
    "# 0~200 사이의 서로다른 숫자 10개를 랜덤 생성한후 내림차순으로 정렬하는 코드를 완성하시오\n",
    "\n",
    "import random\n",
    "\n",
    "list1 = []\n",
    "rand = random.randint(0, 200)\n",
    "\n",
    "for i in range(10):\n",
    "    while rand in list1:\n",
    "        rand = random.randint(0, 200)\n",
    "    list1.append(rand)\n",
    "\n",
    "def findmaxindex(ary):\n",
    "    maxindex = 0 # 인덱스 저장\n",
    "    maxlest = ary[0] # 값 저장\n",
    "    \n",
    "    for i in range(1, len(ary)):\n",
    "        if ary[i] > maxlest:\n",
    "            maxlest = ary[i]\n",
    "            maxindex = i\n",
    "    return maxindex\n",
    "\n",
    "def selectionSort(arr):\n",
    "    newArr = []\n",
    "    for i in range(len(arr)):\n",
    "        maxlest = findmaxindex(arr)\n",
    "        newArr.append(arr.pop(maxlest)) # (인덱스)값만을 출력 후 리스트에서 제거함\n",
    "    return newArr\n",
    "\n",
    "print(selectionSort(list1))"
   ]
  }
 ],
 "metadata": {
  "kernelspec": {
   "display_name": "Python 3",
   "language": "python",
   "name": "python3"
  },
  "language_info": {
   "codemirror_mode": {
    "name": "ipython",
    "version": 3
   },
   "file_extension": ".py",
   "mimetype": "text/x-python",
   "name": "python",
   "nbconvert_exporter": "python",
   "pygments_lexer": "ipython3",
   "version": "3.8.5"
  }
 },
 "nbformat": 4,
 "nbformat_minor": 4
}
