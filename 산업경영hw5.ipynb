{
 "cells": [
  {
   "cell_type": "code",
   "execution_count": 125,
   "metadata": {},
   "outputs": [
    {
     "name": "stdout",
     "output_type": "stream",
     "text": [
      "첫 번째 숫자를 입력하세요.100\n",
      "두 번째 숫자를 입력하세요.1\n"
     ]
    },
    {
     "data": {
      "text/plain": [
       "5050"
      ]
     },
     "execution_count": 125,
     "metadata": {},
     "output_type": "execute_result"
    }
   ],
   "source": [
    "def hap(num1, num2):\n",
    "    if num1 > num2: # 만약 숫자가 크면 바꿔주기\n",
    "        num1, num2 = num2, num1\n",
    "        \n",
    "    if num1 == num2:\n",
    "        return num1\n",
    "    return num1 + hap(num1 + 1, num2)\n",
    "\n",
    "num1 = int(input('첫 번째 숫자를 입력하세요.'))\n",
    "num2 = int(input('두 번째 숫자를 입력하세요.'))\n",
    "\n",
    "hap(num1, num2)"
   ]
  }
 ],
 "metadata": {
  "kernelspec": {
   "display_name": "Python 3",
   "language": "python",
   "name": "python3"
  },
  "language_info": {
   "codemirror_mode": {
    "name": "ipython",
    "version": 3
   },
   "file_extension": ".py",
   "mimetype": "text/x-python",
   "name": "python",
   "nbconvert_exporter": "python",
   "pygments_lexer": "ipython3",
   "version": "3.7.6"
  }
 },
 "nbformat": 4,
 "nbformat_minor": 4
}
