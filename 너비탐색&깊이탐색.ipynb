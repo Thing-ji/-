{
 "cells": [
  {
   "cell_type": "code",
   "execution_count": 17,
   "metadata": {},
   "outputs": [
    {
     "name": "stdout",
     "output_type": "stream",
     "text": [
      "['alice', 'bob', 'claire']\n"
     ]
    }
   ],
   "source": [
    "graph = {}\n",
    "graph['you'] = ['alice', 'bob', 'claire']\n",
    "graph['bob'] = ['anuj', 'peggy']\n",
    "graph['alice'] = ['peggy']\n",
    "graph['claire'] = ['thom', 'jonny']\n",
    "graph['anuj'] = []\n",
    "graph['peggy'] = []\n",
    "graph['thom'] = []\n",
    "graph['jonny'] = []\n",
    "\n",
    "print(graph['you'])\n"
   ]
  },
  {
   "cell_type": "markdown",
   "metadata": {},
   "source": [
    "# BFS 너비 우선 탐색"
   ]
  },
  {
   "cell_type": "code",
   "execution_count": 18,
   "metadata": {},
   "outputs": [
    {
     "name": "stdout",
     "output_type": "stream",
     "text": [
      "thom is a mango seller!\n"
     ]
    },
    {
     "data": {
      "text/plain": [
       "True"
      ]
     },
     "execution_count": 18,
     "metadata": {},
     "output_type": "execute_result"
    }
   ],
   "source": [
    "from collections import deque\n",
    "\n",
    "def search(name):\n",
    "    search_queue = deque()\n",
    "    search_queue += graph[name]\n",
    "    searched = []\n",
    "\n",
    "    def person_is_seller(naming):\n",
    "        return naming[-1] == 'm' # 마지막 글자가 'm'이면 망고판매상으로 우리가 정해놓을 것\n",
    "\n",
    "\n",
    "    while search_queue: # 큐가 비어있지 않는 한 계속 실행된다.\n",
    "        person = search_queue.popleft()\n",
    "        if person_is_seller(person):\n",
    "            print(person + \" is a mango seller!\")\n",
    "            return True\n",
    "        else:\n",
    "            search_queue += graph[person]\n",
    "\n",
    "    return False\n",
    "\n",
    "search('you')"
   ]
  },
  {
   "cell_type": "markdown",
   "metadata": {},
   "source": [
    "queue 자료구조 사용"
   ]
  },
  {
   "cell_type": "markdown",
   "metadata": {},
   "source": [
    "# DFS 깊이 우선 탐색"
   ]
  },
  {
   "cell_type": "code",
   "execution_count": 19,
   "metadata": {},
   "outputs": [
    {
     "name": "stdout",
     "output_type": "stream",
     "text": [
      "A는 이미 방문함\n",
      "A B "
     ]
    }
   ],
   "source": [
    "# stack = []\n",
    "# stack.append(값1)\n",
    "# data = stack.pop()\n",
    "\n",
    "# if len(stack) == 0:\n",
    "#     print('스택이 비었음')\n",
    "    \n",
    "visitedAry = []\n",
    "visitedAry.append(0)\n",
    "visitedAry.append(1)\n",
    "\n",
    "if 1 in visitedAry:\n",
    "    print('A는 이미 방문함')\n",
    "    \n",
    "for i in visitedAry:\n",
    "    print(chr(ord('A') + i), end = ' ')"
   ]
  },
  {
   "cell_type": "code",
   "execution_count": null,
   "metadata": {},
   "outputs": [],
   "source": [
    "current = 0\n",
    "stack.append(current)\n",
    "visitedAry.append(current) # 방문함\n",
    "\n",
    "# 정점 C 방문\n",
    "next1 = None\n",
    "for vertex in range(4): # 한 정점에서 이동할건데 총 정점이 4개이니까 -> 4로 지정\n",
    "    if G1.graph[current][vertex] == 1:\n",
    "        next1 = vertex # 이웃으로 이동하기~\n",
    "        break\n",
    "\n",
    "current = next1 # 다음 지목된 정점을 현재 정점으로 옮긴 후 탐색\n",
    "stack.append(current)\n",
    "visitedAry.append(current)\n",
    "\n",
    "# 정점 B 방문\n",
    "next1 = None\n",
    "for vertex in range(4):\n",
    "    if G1.graph[current][vertex] == 1:\n",
    "        next1 = vertex\n",
    "        break\n",
    "        \n",
    "current = next1\n",
    "stack.append(current)\n",
    "visitedAry.append(current)\n",
    "\n",
    "# 여기서는 반복 오류가 발생!"
   ]
  },
  {
   "cell_type": "code",
   "execution_count": null,
   "metadata": {},
   "outputs": [],
   "source": [
    "current = 0\n",
    "stack.append(current)\n",
    "visitedAry.append(current) # 방문함\n",
    "\n",
    "# 정점 C 방문\n",
    "next1 = None\n",
    "for vertex in range(4): # 한 정점에서 이동할건데 총 정점이 4개이니까 -> 4로 지정\n",
    "    if G1.graph[current][vertex] == 1:\n",
    "        if vertex in visitedAry:\n",
    "            pass # for문 상에서 다음걸로 패스! continue는 while문에서 주로 사용!\n",
    "        else:\n",
    "            next1 = vertex\n",
    "            break\n",
    "\n",
    "if next1 != None:\n",
    "    current = next1\n",
    "    stack.append(current)\n",
    "    visitedAry.append(current)\n",
    "else: # 만약 이웃이 비어있다면\n",
    "    current = stack.pop()"
   ]
  },
  {
   "cell_type": "markdown",
   "metadata": {},
   "source": [
    "##### 최종경로"
   ]
  },
  {
   "cell_type": "code",
   "execution_count": 40,
   "metadata": {},
   "outputs": [
    {
     "name": "stdout",
     "output_type": "stream",
     "text": [
      "##G1 무방향 그래프 ##\n",
      "0 0 1 1 \n",
      "0 0 1 0 \n",
      "1 1 0 1 \n",
      "1 0 1 0 \n",
      "방문 순서 --> A C B D "
     ]
    }
   ],
   "source": [
    "class Graph():\n",
    "    def __init__(self, size):\n",
    "        self.SIZE = size\n",
    "        self.graph = [[0 for _ in range(size)] for _ in range(size)]\n",
    "        \n",
    "        \n",
    "        \n",
    "G1 = None\n",
    "stack = []\n",
    "visitedAry = []\n",
    "\n",
    "# 메인코드\n",
    "G1 = Graph(4)\n",
    "G1.graph[0][2] =1; G1.graph[0][3] = 1\n",
    "G1.graph[1][2] =1\n",
    "G1.graph[2][0] =1; G1.graph[2][1] =1; G1.graph[2][3] =1\n",
    "G1.graph[3][0] =1; G1.graph[3][2] =1\n",
    "\n",
    "print('##G1 무방향 그래프 ##')\n",
    "\n",
    "for row in range(G1.SIZE):\n",
    "    for col in range(G1.SIZE):\n",
    "        print(G1.graph[row][col], end = ' ')\n",
    "    print()\n",
    "    \n",
    "    \n",
    "current = 0\n",
    "stack.append(current)\n",
    "visitedAry.append(current)\n",
    "\n",
    "while len(stack) != 0:\n",
    "    next1 = None\n",
    "    for vertex in range(G1.SIZE):\n",
    "        if G1.graph[current][vertex] == 1:\n",
    "            if vertex in visitedAry:\n",
    "                pass\n",
    "            else:\n",
    "                next1 = vertex\n",
    "                break\n",
    "    \n",
    "    if next1 != None:\n",
    "        current = next1\n",
    "        stack.append(current)\n",
    "        visitedAry.append(current)\n",
    "    else:\n",
    "        current = stack.pop()\n",
    "        \n",
    "print('방문 순서 -->', end = ' ')\n",
    "for i in visitedAry:\n",
    "    print(chr(ord('A')+i), end = ' ')"
   ]
  }
 ],
 "metadata": {
  "kernelspec": {
   "display_name": "Python 3",
   "language": "python",
   "name": "python3"
  },
  "language_info": {
   "codemirror_mode": {
    "name": "ipython",
    "version": 3
   },
   "file_extension": ".py",
   "mimetype": "text/x-python",
   "name": "python",
   "nbconvert_exporter": "python",
   "pygments_lexer": "ipython3",
   "version": "3.8.5"
  }
 },
 "nbformat": 4,
 "nbformat_minor": 4
}
