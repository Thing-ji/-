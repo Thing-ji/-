{
 "cells": [
  {
   "cell_type": "markdown",
   "metadata": {},
   "source": [
    "# BFS"
   ]
  },
  {
   "cell_type": "code",
   "execution_count": 15,
   "metadata": {},
   "outputs": [
    {
     "name": "stdout",
     "output_type": "stream",
     "text": [
      "출력 결과 ->  0 1 2 3 4 5 "
     ]
    }
   ],
   "source": [
    "from collections import deque\n",
    "\n",
    "graph = {}\n",
    "graph[0] = [1, 2]\n",
    "graph[1] = [0, 3]\n",
    "graph[2] = [0, 3]\n",
    "graph[3] = [1, 2, 4, 5]\n",
    "graph[4] = [3, 5]\n",
    "graph[5] = [3, 4]\n",
    "\n",
    "def search(first):\n",
    "\n",
    "    search_queue = deque()\n",
    "    search_queue += graph[first]\n",
    "    searched = []\n",
    "\n",
    "\n",
    "    searched.append(first) # 첫 정점 추가\n",
    "    while search_queue:\n",
    "        select = search_queue.popleft()\n",
    "        if not select in searched:\n",
    "            searched.append(select)\n",
    "            search_queue += graph[select]\n",
    "        else:\n",
    "            continue\n",
    "\n",
    "    return searched\n",
    "\n",
    "\n",
    "result = search(0)\n",
    "\n",
    "\n",
    "print('출력 결과 -> ', end = ' ')\n",
    "for i in result:\n",
    "    print(i, end = ' ')"
   ]
  },
  {
   "cell_type": "markdown",
   "metadata": {},
   "source": [
    "# DFS"
   ]
  },
  {
   "cell_type": "code",
   "execution_count": 23,
   "metadata": {},
   "outputs": [
    {
     "name": "stdout",
     "output_type": "stream",
     "text": [
      "0 1 1 0 0 0 \n",
      "1 0 0 1 0 0 \n",
      "1 0 0 1 0 0 \n",
      "0 1 1 0 1 1 \n",
      "0 0 0 1 0 1 \n",
      "0 0 0 1 1 0 \n",
      "출력 순서 -->  0 1 3 2 4 5 "
     ]
    }
   ],
   "source": [
    "class Graph():\n",
    "    def __init__(self, size):\n",
    "        self.SIZE = size\n",
    "        self.graph = [[0 for _ in range(size)] for _ in range(size)]\n",
    "        \n",
    "# 그래프 생성        \n",
    "G1 = Graph(6)\n",
    "stack = []\n",
    "visitedAry = []\n",
    "\n",
    "# 값 입력\n",
    "G1.graph[0][1] = 1; G1.graph[0][2] = 1\n",
    "G1.graph[1][0] = 1; G1.graph[1][3] = 1\n",
    "G1.graph[2][0] = 1; G1.graph[2][3] = 1\n",
    "G1.graph[3][1] = 1; G1.graph[3][2] = 1; G1.graph[3][4] = 1; G1.graph[3][5] = 1\n",
    "G1.graph[4][3] = 1; G1.graph[4][5] = 1\n",
    "G1.graph[5][3] = 1; G1.graph[5][4] = 1\n",
    "\n",
    "# 그래프 출력\n",
    "for row in range(G1.SIZE):\n",
    "    for col in range(G1.SIZE):\n",
    "        print(G1.graph[row][col], end = ' ')\n",
    "    print()\n",
    "    \n",
    "# stack 자료구조\n",
    "def search(first):\n",
    "    current = first\n",
    "    stack.append(current)\n",
    "    visitedAry.append(current)\n",
    "\n",
    "    while len(stack) != 0:\n",
    "        next1 = None\n",
    "        for vertex in range(G1.SIZE):\n",
    "            if G1.graph[current][vertex] == 1:\n",
    "                if vertex in visitedAry:\n",
    "                    pass\n",
    "                else:\n",
    "                    next1 = vertex\n",
    "                    break\n",
    "\n",
    "        if next1 != None:\n",
    "            current = next1\n",
    "            stack.append(current)\n",
    "            visitedAry.append(current)\n",
    "        else:\n",
    "            current = stack.pop() # 더 이상 이웃이 없으면 위에 코드들은 뛰어 넘고 stack에서 pop\n",
    "\n",
    "    return visitedAry\n",
    "\n",
    "search(0)\n",
    "print('출력 순서 --> ', end = ' ')\n",
    "for i in visitedAry:\n",
    "    print(i, end = ' ')\n",
    "\n"
   ]
  }
 ],
 "metadata": {
  "kernelspec": {
   "display_name": "Python 3",
   "language": "python",
   "name": "python3"
  },
  "language_info": {
   "codemirror_mode": {
    "name": "ipython",
    "version": 3
   },
   "file_extension": ".py",
   "mimetype": "text/x-python",
   "name": "python",
   "nbconvert_exporter": "python",
   "pygments_lexer": "ipython3",
   "version": "3.8.5"
  }
 },
 "nbformat": 4,
 "nbformat_minor": 4
}
