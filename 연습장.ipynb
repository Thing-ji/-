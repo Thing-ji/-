{
 "cells": [
  {
   "cell_type": "code",
   "execution_count": 3,
   "metadata": {},
   "outputs": [
    {
     "name": "stdout",
     "output_type": "stream",
     "text": [
      "100과 200의 plus() 함수 결과는 300\n"
     ]
    }
   ],
   "source": [
    "def plus(v1, v2):\n",
    "    result = v1 + v2\n",
    "    return result\n",
    "\n",
    "hap = plus(100, 200)\n",
    "\n",
    "print(\"100과 200의 plus() 함수 결과는 %d\" % hap)"
   ]
  },
  {
   "cell_type": "code",
   "execution_count": 3,
   "metadata": {},
   "outputs": [
    {
     "name": "stdout",
     "output_type": "stream",
     "text": [
      "정렬 전 ------->>>>>>>>>>>. [188, 162, 168, 120, 50, 150, 177, 105]\n",
      "정렬 후 ------->>>>>>>>>> [50, 105, 120, 150, 162, 168, 177, 188]\n"
     ]
    }
   ],
   "source": [
    "def findMinIdx(ary):\n",
    "    minIdx = 0\n",
    "    for i in range(len(ary)):\n",
    "        if ary[minIdx] > ary[i]:\n",
    "            minIdx = i\n",
    "            \n",
    "    return minIdx\n",
    "\n",
    "before = [188, 162, 168, 120, 50, 150, 177, 105]\n",
    "after = [] # list를 열고\n",
    "\n",
    "## 메인\n",
    "print('정렬 전 ------->>>>>>>>>>>.', before)\n",
    "for i in range(len(before)):\n",
    "    minpos = findMinIdx(before)\n",
    "    after.append(before[minpos])\n",
    "    del(before[minpos])\n",
    "    \n",
    "print('정렬 후 ------->>>>>>>>>>', after)"
   ]
  },
  {
   "cell_type": "code",
   "execution_count": 7,
   "metadata": {},
   "outputs": [
    {
     "name": "stdout",
     "output_type": "stream",
     "text": [
      "정렬 전 ->>>>>>>>>>>> [188, 162, 168, 120, 50, 150, 177, 105]\n",
      "정렬 후 ->>>>>>>>>>>. [50, 105, 120, 150, 162, 168, 177, 188]\n"
     ]
    }
   ],
   "source": [
    "def selectionSort(ary):\n",
    "    n = len(ary)\n",
    "    \n",
    "    for i in range(0, n-1):\n",
    "        minIdx = i\n",
    "        \n",
    "        for k in range(i+1, n):\n",
    "            if ary[minIdx] > ary[k]:\n",
    "                minIdx = k\n",
    "                \n",
    "        temp = ary[i]\n",
    "        ary[i] = ary[minIdx]\n",
    "        ary[minIdx] = temp\n",
    "            \n",
    "    return ary\n",
    "    \n",
    "before = [188, 162, 168, 120, 50, 150, 177, 105]\n",
    "\n",
    "# 메인\n",
    "print('정렬 전 ->>>>>>>>>>>>', before)\n",
    "after = selectionSort(before)\n",
    "print('정렬 후 ->>>>>>>>>>>.', after)"
   ]
  },
  {
   "cell_type": "code",
   "execution_count": 8,
   "metadata": {},
   "outputs": [
    {
     "name": "stdout",
     "output_type": "stream",
     "text": [
      "[2, 3, 5, 6, 10]\n"
     ]
    }
   ],
   "source": [
    "def findSmallest(arr):\n",
    "    smallest = arr[0] # 가장 작은 값 저장\n",
    "    smallest_index = 0 # 가장 작은 값의 인덱스 저장\n",
    "    \n",
    "    for i in range(1, len(arr)):\n",
    "        if smallest > arr[i]:\n",
    "            smallest = arr[i]\n",
    "            smallest_index = i \n",
    "    return smallest_index\n",
    "    \n",
    "def selectionSort(arr):\n",
    "    newArr = []\n",
    "    for i in range(len(arr)):\n",
    "        smallest = findSmallest(arr) # 위에 정의된 함수\n",
    "        newArr.append(arr.pop(smallest))\n",
    "    return newArr\n",
    "\n",
    "print(selectionSort([5, 3, 6, 2, 10]))"
   ]
  },
  {
   "cell_type": "code",
   "execution_count": 3,
   "metadata": {},
   "outputs": [
    {
     "name": "stdout",
     "output_type": "stream",
     "text": [
      "[99, 35, 10, 8, 6, 5, 3, 2]\n"
     ]
    }
   ],
   "source": [
    "# 0~200 사이의 서로다른 숫자 10개를 랜덤 생성한후 내림차순으로 정렬하는 코드를 완성하시오\n",
    "\n",
    "import random\n",
    "\n",
    "list1 = []\n",
    "rand = random.randint(0, 200)\n",
    "\n",
    "for i in range(10):\n",
    "    while rand in list1:\n",
    "        rand = random.randint(0, 200)\n",
    "    list1.append(rand)\n",
    "\n",
    "def findmaxindex(ary):\n",
    "    maxindex = 0 # 인덱스 저장\n",
    "    maxlest = ary[0] # 값 저장\n",
    "    \n",
    "    for i in range(1, len(ary)):\n",
    "        if ary[i] > maxlest:\n",
    "            maxlest = ary[i]\n",
    "            maxindex = i\n",
    "    return maxindex\n",
    "\n",
    "def selectionSort(arr):\n",
    "    newArr = []\n",
    "    for i in range(len(arr)):\n",
    "        maxlest = findmaxindex(arr)\n",
    "        newArr.append(arr.pop(maxlest)) # (인덱스)값만을 출력 후 리스트에서 제거함\n",
    "    return newArr\n",
    "\n",
    "print(selectionSort([5, 3, 6, 8, 35, 99, 2, 10]))"
   ]
  },
  {
   "cell_type": "code",
   "execution_count": 2,
   "metadata": {},
   "outputs": [
    {
     "data": {
      "text/plain": [
       "[1, 2, 4, 5, 6, 7, 8, 9]"
      ]
     },
     "execution_count": 2,
     "metadata": {},
     "output_type": "execute_result"
    }
   ],
   "source": [
    "a = [1, 2, 3, 4, 5, 6, 7, 8, 9]\n",
    "a.pop(2)\n",
    "a"
   ]
  },
  {
   "cell_type": "markdown",
   "metadata": {},
   "source": [
    "# 4/10"
   ]
  },
  {
   "cell_type": "code",
   "execution_count": 3,
   "metadata": {},
   "outputs": [
    {
     "data": {
      "text/plain": [
       "[1, 3, 5, 6, 7, 9]"
      ]
     },
     "execution_count": 3,
     "metadata": {},
     "output_type": "execute_result"
    }
   ],
   "source": [
    "def findminidx(ary):\n",
    "    minidx = 0\n",
    "    for i in range(len(ary)):\n",
    "        if ary[minidx] > ary[i]:\n",
    "            minidx = i\n",
    "    return minidx\n",
    "\n",
    "before = [1, 9, 6, 3, 7, 5]\n",
    "after = []\n",
    "\n",
    "for _ in range(len(before)):\n",
    "    minpos = findminidx(before)\n",
    "    after.append(before[minpos])\n",
    "    del(before[minpos])\n",
    "    \n",
    "after"
   ]
  },
  {
   "cell_type": "code",
   "execution_count": 4,
   "metadata": {},
   "outputs": [
    {
     "data": {
      "text/plain": [
       "[1, 3, 5, 6, 7, 9]"
      ]
     },
     "execution_count": 4,
     "metadata": {},
     "output_type": "execute_result"
    }
   ],
   "source": [
    "def selection(ary):\n",
    "    n = len(ary)\n",
    "    for i in range(0, n-1):\n",
    "        minidx = i\n",
    "        for k in range(i+1, n):\n",
    "            if ary[minidx] > ary[k]:\n",
    "                minidx = k\n",
    "        \n",
    "        tmp = ary[i]\n",
    "        ary[i] = ary[minidx] # i꺼를 minidx에게, 최적값을 찾아놓은 minidx껀 가져가버리기\n",
    "        ary[minidx] = tmp\n",
    "        \n",
    "    return ary\n",
    "\n",
    "before = [1, 9, 6, 3, 7, 5]\n",
    "selection(before)\n",
    "        "
   ]
  },
  {
   "cell_type": "code",
   "execution_count": 5,
   "metadata": {},
   "outputs": [
    {
     "data": {
      "text/plain": [
       "[9, 7, 6, 5, 3, 1]"
      ]
     },
     "execution_count": 5,
     "metadata": {},
     "output_type": "execute_result"
    }
   ],
   "source": [
    "def find(arr):\n",
    "    smallest = arr[0]\n",
    "    index = 0\n",
    "    \n",
    "    for i in range(len(arr)):\n",
    "        if smallest < arr[i]:\n",
    "            index = i\n",
    "            smallest = arr[index]\n",
    "    return index\n",
    "\n",
    "def select(arr):\n",
    "    newarr = []\n",
    "    for i in range(len(arr)):\n",
    "        smallest = find(arr)\n",
    "        newarr.append(arr.pop(smallest))\n",
    "    return newarr\n",
    "\n",
    "\n",
    "select(before)\n"
   ]
  },
  {
   "cell_type": "code",
   "execution_count": 7,
   "metadata": {},
   "outputs": [
    {
     "name": "stdout",
     "output_type": "stream",
     "text": [
      "상장를 연다아ㅏㅏ\n",
      "상장를 연다아ㅏㅏ\n",
      "상장를 연다아ㅏㅏ\n",
      "상장를 연다아ㅏㅏ\n",
      "상장를 연다아ㅏㅏ\n",
      "반지르 찾았다\n",
      "상자를 닫는다아\n",
      "상자를 닫는다아\n",
      "상자를 닫는다아\n",
      "상자를 닫는다아\n"
     ]
    }
   ],
   "source": [
    "count = 5\n",
    "def openbox():\n",
    "    global count\n",
    "    print('상장를 연다아ㅏㅏ')\n",
    "    count -=1\n",
    "    if count == 0:\n",
    "        print('반지르 찾았다')\n",
    "        return\n",
    "    openbox()\n",
    "    print('상자를 닫는다아')\n",
    "\n",
    "openbox()"
   ]
  },
  {
   "cell_type": "code",
   "execution_count": 10,
   "metadata": {},
   "outputs": [],
   "source": [
    "def look_for_key(main_box):\n",
    "    pile = main_box.make_a_pile_to_look_through()\n",
    "    while pile is not empty:\n",
    "        box = pile.grab_a_box()\n",
    "        for item in box:\n",
    "            if item.is_a_box():\n",
    "                pile.append(item)\n",
    "            elif item.is_a_key():\n",
    "                print('열쇠 찾음!')\n",
    "                \n",
    "              \n",
    "            \n",
    "def look__for_key(box):\n",
    "    for item in box:\n",
    "        if item.is_a_box():\n",
    "            look_for_key(item)\n",
    "        elif item.is_a_key():\n",
    "            print(\"열쇠를 찾았다.\")\n",
    "            "
   ]
  },
  {
   "cell_type": "code",
   "execution_count": 14,
   "metadata": {},
   "outputs": [
    {
     "name": "stdout",
     "output_type": "stream",
     "text": [
      "5\n",
      "4\n",
      "3\n",
      "2\n",
      "1\n",
      "종료!\n"
     ]
    }
   ],
   "source": [
    "def countdown(i):\n",
    "    print(i)\n",
    "    if i <= 1:\n",
    "        print('종료!')\n",
    "        return\n",
    "    else:\n",
    "        i-=1\n",
    "        countdown(i)\n",
    "        \n",
    "countdown(5)\n",
    "\n",
    "def countdown(i):\n",
    "    print(i)\n",
    "    if i <= 1:\n",
    "        print('종료!')\n",
    "        return\n",
    "    else:\n",
    "        countdown(i-1)\n",
    "        \n",
    "countdown(5)"
   ]
  },
  {
   "cell_type": "code",
   "execution_count": 15,
   "metadata": {},
   "outputs": [],
   "source": [
    "def greet(name):\n",
    "    print('hello, ' + name + \"!\")\n",
    "    greet2(name)\n",
    "    print('good bye')\n",
    "    bye()"
   ]
  },
  {
   "cell_type": "code",
   "execution_count": 19,
   "metadata": {},
   "outputs": [],
   "source": [
    "def greet2(nama):\n",
    "    print('how are you ' + nama + '?')"
   ]
  },
  {
   "cell_type": "code",
   "execution_count": 20,
   "metadata": {},
   "outputs": [],
   "source": [
    "def bye():\n",
    "    print('ok bye!')"
   ]
  },
  {
   "cell_type": "code",
   "execution_count": 21,
   "metadata": {},
   "outputs": [
    {
     "name": "stdout",
     "output_type": "stream",
     "text": [
      "hello, 다윗!\n",
      "how are you 다윗?\n",
      "good bye\n",
      "ok bye!\n"
     ]
    }
   ],
   "source": [
    "greet('다윗')"
   ]
  },
  {
   "cell_type": "code",
   "execution_count": 37,
   "metadata": {},
   "outputs": [
    {
     "data": {
      "text/plain": [
       "14"
      ]
     },
     "execution_count": 37,
     "metadata": {},
     "output_type": "execute_result"
    }
   ],
   "source": [
    "# 재귀함수를 사용해서 두 수를 입력받고  숫자 사이의 합계를 구하는 코드를 작성하시오. \n",
    "# 단, 입력하는 숫자는 작은 숫자 또는 큰 숫자 중 어느 것을 먼저 입력해도 된다.\n",
    "\n",
    "def hap(x, y):\n",
    "    if x > y:\n",
    "        x, y = y, x\n",
    "        \n",
    "    if x == y-1:\n",
    "        return 0\n",
    "    else:\n",
    "        return x+1 + hap(x+1, y)\n",
    "\n",
    "hap(1, 6)"
   ]
  }
 ],
 "metadata": {
  "kernelspec": {
   "display_name": "Python 3",
   "language": "python",
   "name": "python3"
  },
  "language_info": {
   "codemirror_mode": {
    "name": "ipython",
    "version": 3
   },
   "file_extension": ".py",
   "mimetype": "text/x-python",
   "name": "python",
   "nbconvert_exporter": "python",
   "pygments_lexer": "ipython3",
   "version": "3.8.5"
  }
 },
 "nbformat": 4,
 "nbformat_minor": 4
}
