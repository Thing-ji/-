{
 "cells": [
  {
   "cell_type": "code",
   "execution_count": 3,
   "metadata": {},
   "outputs": [
    {
     "name": "stdout",
     "output_type": "stream",
     "text": [
      "100과 200의 plus() 함수 결과는 300\n"
     ]
    }
   ],
   "source": [
    "def plus(v1, v2):\n",
    "    result = v1 + v2\n",
    "    return result\n",
    "\n",
    "hap = plus(100, 200)\n",
    "\n",
    "print(\"100과 200의 plus() 함수 결과는 %d\" % hap)"
   ]
  },
  {
   "cell_type": "code",
   "execution_count": 3,
   "metadata": {},
   "outputs": [
    {
     "name": "stdout",
     "output_type": "stream",
     "text": [
      "정렬 전 ------->>>>>>>>>>>. [188, 162, 168, 120, 50, 150, 177, 105]\n",
      "정렬 후 ------->>>>>>>>>> [50, 105, 120, 150, 162, 168, 177, 188]\n"
     ]
    }
   ],
   "source": [
    "def findMinIdx(ary):\n",
    "    minIdx = 0\n",
    "    for i in range(len(ary)):\n",
    "        if ary[minIdx] > ary[i]:\n",
    "            minIdx = i\n",
    "            \n",
    "    return minIdx\n",
    "\n",
    "before = [188, 162, 168, 120, 50, 150, 177, 105]\n",
    "after = [] # list를 열고\n",
    "\n",
    "## 메인\n",
    "print('정렬 전 ------->>>>>>>>>>>.', before)\n",
    "for i in range(len(before)):\n",
    "    minpos = findMinIdx(before)\n",
    "    after.append(before[minpos])\n",
    "    del(before[minpos])\n",
    "    \n",
    "print('정렬 후 ------->>>>>>>>>>', after)"
   ]
  },
  {
   "cell_type": "code",
   "execution_count": 7,
   "metadata": {},
   "outputs": [
    {
     "name": "stdout",
     "output_type": "stream",
     "text": [
      "정렬 전 ->>>>>>>>>>>> [188, 162, 168, 120, 50, 150, 177, 105]\n",
      "정렬 후 ->>>>>>>>>>>. [50, 105, 120, 150, 162, 168, 177, 188]\n"
     ]
    }
   ],
   "source": [
    "def selectionSort(ary):\n",
    "    n = len(ary)\n",
    "    \n",
    "    for i in range(0, n-1):\n",
    "        minIdx = i\n",
    "        \n",
    "        for k in range(i+1, n):\n",
    "            if ary[minIdx] > ary[k]:\n",
    "                minIdx = k\n",
    "                \n",
    "        temp = ary[i]\n",
    "        ary[i] = ary[minIdx]\n",
    "        ary[minIdx] = temp\n",
    "            \n",
    "    return ary\n",
    "    \n",
    "before = [188, 162, 168, 120, 50, 150, 177, 105]\n",
    "\n",
    "# 메인\n",
    "print('정렬 전 ->>>>>>>>>>>>', before)\n",
    "after = selectionSort(before)\n",
    "print('정렬 후 ->>>>>>>>>>>.', after)"
   ]
  },
  {
   "cell_type": "code",
   "execution_count": 8,
   "metadata": {},
   "outputs": [
    {
     "name": "stdout",
     "output_type": "stream",
     "text": [
      "[2, 3, 5, 6, 10]\n"
     ]
    }
   ],
   "source": [
    "def findSmallest(arr):\n",
    "    smallest = arr[0] # 가장 작은 값 저장\n",
    "    smallest_index = 0 # 가장 작은 값의 인덱스 저장\n",
    "    \n",
    "    for i in range(1, len(arr)):\n",
    "        if smallest > arr[i]:\n",
    "            smallest = arr[i]\n",
    "            smallest_index = i \n",
    "    return smallest_index\n",
    "    \n",
    "def selectionSort(arr):\n",
    "    newArr = []\n",
    "    for i in range(len(arr)):\n",
    "        smallest = findSmallest(arr) # 위에 정의된 함수\n",
    "        newArr.append(arr.pop(smallest))\n",
    "    return newArr\n",
    "\n",
    "print(selectionSort([5, 3, 6, 2, 10]))"
   ]
  },
  {
   "cell_type": "code",
   "execution_count": 55,
   "metadata": {},
   "outputs": [
    {
     "name": "stdout",
     "output_type": "stream",
     "text": [
      "[10, 6, 5, 3, 2]\n"
     ]
    }
   ],
   "source": [
    "# 0~200 사이의 서로다른 숫자 10개를 랜덤 생성한후 내림차순으로 정렬하는 코드를 완성하시오\n",
    "\n",
    "import random\n",
    "\n",
    "list1 = []\n",
    "rand = random.randint(0, 200)\n",
    "\n",
    "for i in range(10):\n",
    "    while rand in list1:\n",
    "        rand = random.randint(0, 200)\n",
    "    list1.append(rand)\n",
    "\n",
    "def findmaxindex(ary):\n",
    "    maxindex = 0 # 인덱스 저장\n",
    "    maxlest = ary[0] # 값 저장\n",
    "    \n",
    "    for i in range(1, len(ary)):\n",
    "        if ary[i] > maxlest:\n",
    "            maxlest = ary[i]\n",
    "            maxindex = i\n",
    "    return maxindex\n",
    "\n",
    "def selectionSort(arr):\n",
    "    newArr = []\n",
    "    for i in range(len(arr)):\n",
    "        maxlest = findmaxindex(arr)\n",
    "        newArr.append(arr.pop(maxlest)) # (인덱스)값만을 출력 후 리스트에서 제거함\n",
    "    return newArr\n",
    "\n",
    "print(selectionSort([5, 3, 6, 2, 10]))\n",
    "    "
   ]
  },
  {
   "cell_type": "code",
   "execution_count": 53,
   "metadata": {},
   "outputs": [
    {
     "data": {
      "text/plain": [
       "[1, 2, 4, 5, 6, 7, 8, 9]"
      ]
     },
     "execution_count": 53,
     "metadata": {},
     "output_type": "execute_result"
    }
   ],
   "source": [
    "a = [1, 2, 3, 4, 5, 6, 7, 8, 9]\n",
    "a.pop(2)\n",
    "a"
   ]
  },
  {
   "cell_type": "code",
   "execution_count": null,
   "metadata": {},
   "outputs": [],
   "source": []
  }
 ],
 "metadata": {
  "kernelspec": {
   "display_name": "Python 3",
   "language": "python",
   "name": "python3"
  },
  "language_info": {
   "codemirror_mode": {
    "name": "ipython",
    "version": 3
   },
   "file_extension": ".py",
   "mimetype": "text/x-python",
   "name": "python",
   "nbconvert_exporter": "python",
   "pygments_lexer": "ipython3",
   "version": "3.8.5"
  }
 },
 "nbformat": 4,
 "nbformat_minor": 4
}
