{
 "cells": [
  {
   "cell_type": "code",
   "execution_count": 1,
   "metadata": {},
   "outputs": [
    {
     "data": {
      "text/plain": [
       "[1, 3, 4, 6, 9]"
      ]
     },
     "execution_count": 1,
     "metadata": {},
     "output_type": "execute_result"
    }
   ],
   "source": [
    "# 선택정렬\n",
    "\n",
    "def findminidx(ary):\n",
    "    minidx = 0\n",
    "    \n",
    "    for i in range(len(ary)):\n",
    "        if ary[minidx] > ary[i]:\n",
    "            minidx = i\n",
    "    return minidx\n",
    "\n",
    "before = [1, 6, 3, 9, 4]\n",
    "after = []\n",
    "\n",
    "for _ in range(len(before)):\n",
    "    minpos = findminidx(before)\n",
    "    after.append(before[minpos])\n",
    "    del(before[minpos])\n",
    "    \n",
    "after"
   ]
  },
  {
   "cell_type": "code",
   "execution_count": 2,
   "metadata": {},
   "outputs": [
    {
     "data": {
      "text/plain": [
       "[1, 3, 4, 6, 9]"
      ]
     },
     "execution_count": 2,
     "metadata": {},
     "output_type": "execute_result"
    }
   ],
   "source": [
    "def selectionSort(ary): # 싸이클\n",
    "    n = len(ary)\n",
    "    for i in range(0, n-1):\n",
    "        minidx = i\n",
    "        for k in range(i+1, n):\n",
    "            if ary[minidx] > ary[k]:\n",
    "                minidx = k\n",
    "        ary[minidx], ary[i] = ary[i], ary[minidx] # 자리교환\n",
    "    \n",
    "    return ary\n",
    "before = [1, 6, 3, 9, 4]\n",
    "after = selectionSort(before)\n",
    "after\n"
   ]
  },
  {
   "cell_type": "code",
   "execution_count": 3,
   "metadata": {},
   "outputs": [
    {
     "data": {
      "text/plain": [
       "[1, 3, 4, 6, 9]"
      ]
     },
     "execution_count": 3,
     "metadata": {},
     "output_type": "execute_result"
    }
   ],
   "source": [
    "# 배열을 작은 정수에서 큰 정수로 정렬하는 코드\n",
    "\n",
    "def findsmallest(ary):\n",
    "    smallest = ary[0]\n",
    "    index = 0\n",
    "    \n",
    "    for i in range(len(ary)):\n",
    "        if smallest > ary[i]:\n",
    "            index = i\n",
    "            smallest = smallest[index]\n",
    "    return index\n",
    "\n",
    "def sel(ary):\n",
    "    new = []\n",
    "    for i in range(len(ary)):\n",
    "        smallest = findsmallest(ary)\n",
    "        new.append(ary.pop(smallest)) # pop이 들어가는 것을 기억하기!\n",
    "        \n",
    "    return new\n",
    "\n",
    "sel(before)"
   ]
  }
 ],
 "metadata": {
  "kernelspec": {
   "display_name": "Python 3",
   "language": "python",
   "name": "python3"
  },
  "language_info": {
   "codemirror_mode": {
    "name": "ipython",
    "version": 3
   },
   "file_extension": ".py",
   "mimetype": "text/x-python",
   "name": "python",
   "nbconvert_exporter": "python",
   "pygments_lexer": "ipython3",
   "version": "3.8.5"
  }
 },
 "nbformat": 4,
 "nbformat_minor": 4
}
