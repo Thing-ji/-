{
 "cells": [
  {
   "cell_type": "code",
   "execution_count": 8,
   "metadata": {},
   "outputs": [
    {
     "name": "stdout",
     "output_type": "stream",
     "text": [
      "[0, 1, 2, 3, 4, 5, 6, 7, 8, 9, 10, 11, 12, 13, 14, 15, 16, 17, 18, 19, 20, 21, 22, 23, 24, 25, 26, 27, 28, 29, 30, 31, 32, 33, 34, 35, 36, 37, 38, 39, 40, 41, 42, 43, 44, 45, 46, 47, 48, 49, 50, 51, 52, 53, 54, 55, 56, 57, 58, 59, 60, 61, 62, 63, 64, 65, 66, 67, 68, 69, 70, 71, 72, 73, 74, 75, 76, 77, 78, 79, 80, 81, 82, 83, 84, 85, 86, 87, 88, 89, 90, 91, 92, 93, 94, 95, 96, 97, 98, 99, 100, 101, 102, 103, 104, 105, 106, 107, 108, 109, 110, 111, 112, 113, 114, 115, 116, 117, 118, 119, 120, 121, 122, 123, 124, 125, 126, 127, 128, 129, 130, 131, 132, 133, 134, 135, 136, 137, 138, 139, 140, 141, 142, 143, 144, 145, 146, 147, 148, 149, 150, 151, 152, 153, 154, 155, 156, 157, 158, 159, 160, 161, 162, 163, 164, 165, 166, 167, 168, 169, 170, 171, 172, 173, 174, 175, 176, 177, 178, 179, 180, 181, 182, 183, 184, 185, 186, 187, 188, 189, 190, 191, 192, 193, 194, 195, 196, 197, 198, 199, 200]\n",
      "정렬 전 --> [179, 3, 16, 88, 93, 196, 41, 30, 172, 117]\n",
      "정렬 후 --> [196, 179, 172, 117, 93, 88, 41, 30, 16, 3]\n"
     ]
    }
   ],
   "source": [
    "import random\n",
    "\n",
    "# 함수 선언부\n",
    "def findInsertIdx(ary, data):\n",
    "    findIdx = -1\n",
    "    for i in range(0, len(ary)):\n",
    "        if (ary[i] < data):\n",
    "            findIdx = i\n",
    "            break\n",
    "            \n",
    "    if findIdx == -1 : # 큰값을 못찾음 == 제일 마지막 위치\n",
    "        return len(ary)\n",
    "    else :\n",
    "        return findIdx\n",
    "        \n",
    "\n",
    "## 전역 변수부\n",
    "rnList = []\n",
    "before = [] # 정렬 전 코드\n",
    "after = [] # 정렬 후 코드\n",
    "\n",
    "\n",
    "\n",
    "## 메인 코드부\n",
    "rnList = [i for i in range(201)] # 겹치지 않는 중복된 숫자를 위해서\n",
    "print(rnList)\n",
    "\n",
    "for i in range(10):\n",
    "    rn = random.choice(rnList)\n",
    "    before.append(rn)\n",
    "    rnList.remove(rn)\n",
    "    \n",
    "print('정렬 전 -->', before)\n",
    "for i in range(len(before)):\n",
    "    data = before[i]\n",
    "    insPos = findInsertIdx(after, data)\n",
    "    after.insert(insPos, data)\n",
    "print('정렬 후 -->', after)"
   ]
  }
 ],
 "metadata": {
  "kernelspec": {
   "display_name": "Python 3",
   "language": "python",
   "name": "python3"
  },
  "language_info": {
   "codemirror_mode": {
    "name": "ipython",
    "version": 3
   },
   "file_extension": ".py",
   "mimetype": "text/x-python",
   "name": "python",
   "nbconvert_exporter": "python",
   "pygments_lexer": "ipython3",
   "version": "3.7.6"
  }
 },
 "nbformat": 4,
 "nbformat_minor": 4
}
